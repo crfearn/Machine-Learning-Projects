{
  "cells": [
    {
      "cell_type": "markdown",
      "metadata": {
        "id": "-h2ykKwyvHEU"
      },
      "source": [
        "# Spaceship Titanic\n",
        "#### (What could go wrong)\n",
        "## Charles Fearn"
      ]
    },
    {
      "cell_type": "code",
      "execution_count": 41,
      "metadata": {
        "execution": {
          "iopub.execute_input": "2023-12-05T13:39:30.135882Z",
          "iopub.status.busy": "2023-12-05T13:39:30.135267Z",
          "iopub.status.idle": "2023-12-05T13:39:30.963307Z",
          "shell.execute_reply": "2023-12-05T13:39:30.961887Z",
          "shell.execute_reply.started": "2023-12-05T13:39:30.135847Z"
        },
        "id": "5k7oahjeCWIO",
        "trusted": true
      },
      "outputs": [],
      "source": [
        "#Import libraries\n",
        "import pandas as pd\n",
        "import numpy as np\n",
        "import matplotlib.pyplot as plt\n",
        "import seaborn as sns\n",
        "from sklearn.model_selection import train_test_split\n",
        "from sklearn.impute import SimpleImputer\n",
        "from sklearn.preprocessing import StandardScaler, OneHotEncoder\n",
        "from sklearn.compose import ColumnTransformer\n",
        "from sklearn.pipeline import Pipeline\n",
        "from sklearn.ensemble import RandomForestClassifier\n",
        "from sklearn.metrics import accuracy_score\n",
        "from sklearn.model_selection import cross_val_score\n",
        "from mpl_toolkits.mplot3d import Axes3D\n",
        "from sklearn.datasets import make_classification\n",
        "from sklearn.linear_model import LogisticRegression\n",
        "from math import ceil\n",
        "from scipy import linalg\n",
        "from IPython.display import Image\n",
        "from IPython.display import display\n",
        "from mpl_toolkits.mplot3d import Axes3D\n",
        "from sklearn.datasets import make_classification\n",
        "from sklearn.linear_model import LogisticRegression\n",
        "from sklearn.metrics import mean_squared_error, r2_score\n",
        "from math import ceil\n",
        "from scipy import linalg\n",
        "from IPython.display import Image\n",
        "from IPython.display import display\n",
        "from sklearn import metrics\n",
        "from sklearn.metrics import classification_report"
      ]
    },
    {
      "cell_type": "code",
      "execution_count": 42,
      "metadata": {
        "execution": {
          "iopub.execute_input": "2023-12-05T13:39:33.108067Z",
          "iopub.status.busy": "2023-12-05T13:39:33.107635Z",
          "iopub.status.idle": "2023-12-05T13:39:33.177841Z",
          "shell.execute_reply": "2023-12-05T13:39:33.176923Z",
          "shell.execute_reply.started": "2023-12-05T13:39:33.108033Z"
        },
        "id": "8AYWbhdtCWIR",
        "trusted": true
      },
      "outputs": [],
      "source": [
        "#Load train and test datasets\n",
        "train = pd.read_csv(\"train.csv\")\n",
        "test = pd.read_csv(\"test.csv\")\n"
      ]
    },
    {
      "cell_type": "markdown",
      "metadata": {
        "id": "R6h_0KExCWIS"
      },
      "source": [
        "# Data Analysis\n",
        "\n",
        "  Here we are doing an initial explortation and analysis of the training dataset, so we can get an understanding of our data's structure. 'train.info() gives us a quick summary of the data we are using. we will also take a look at statistical data for our numerical feature values.\n",
        "  \n",
        "  By using,\n",
        "\n",
        "   for column in train.select_dtypes(include=['object']).columns:\n",
        "    print(f\"\\n{column}: {train[column].unique()}\")\n",
        "\n",
        "  we loop over the categorical columns in the dataset, printing unique values for each. It offers a glimpse into the variety and range of categorical data, aiding in feature engineering decisions.\n",
        "\n",
        "  overall, this section helps us understand the data and find potential challenges that we might need to take care of before we continue."
      ]
    },
    {
      "cell_type": "code",
      "execution_count": 43,
      "metadata": {
        "colab": {
          "base_uri": "https://localhost:8080/"
        },
        "execution": {
          "iopub.execute_input": "2023-12-05T13:39:35.625963Z",
          "iopub.status.busy": "2023-12-05T13:39:35.625538Z",
          "iopub.status.idle": "2023-12-05T13:39:35.65148Z",
          "shell.execute_reply": "2023-12-05T13:39:35.650075Z",
          "shell.execute_reply.started": "2023-12-05T13:39:35.625928Z"
        },
        "id": "i-xoECOXCWIU",
        "outputId": "0a4e3273-a6de-4daa-e9a2-2fdb9199f0e5",
        "trusted": true
      },
      "outputs": [
        {
          "name": "stdout",
          "output_type": "stream",
          "text": [
            "<class 'pandas.core.frame.DataFrame'>\n",
            "RangeIndex: 8693 entries, 0 to 8692\n",
            "Data columns (total 14 columns):\n",
            " #   Column        Non-Null Count  Dtype  \n",
            "---  ------        --------------  -----  \n",
            " 0   PassengerId   8693 non-null   object \n",
            " 1   HomePlanet    8492 non-null   object \n",
            " 2   CryoSleep     8476 non-null   object \n",
            " 3   Cabin         8494 non-null   object \n",
            " 4   Destination   8511 non-null   object \n",
            " 5   Age           8514 non-null   float64\n",
            " 6   VIP           8490 non-null   object \n",
            " 7   RoomService   8512 non-null   float64\n",
            " 8   FoodCourt     8510 non-null   float64\n",
            " 9   ShoppingMall  8485 non-null   float64\n",
            " 10  Spa           8510 non-null   float64\n",
            " 11  VRDeck        8505 non-null   float64\n",
            " 12  Name          8493 non-null   object \n",
            " 13  Transported   8693 non-null   bool   \n",
            "dtypes: bool(1), float64(6), object(7)\n",
            "memory usage: 891.5+ KB\n",
            "None\n"
          ]
        }
      ],
      "source": [
        "# look at information about the train dataset\n",
        "print(train.info())"
      ]
    },
    {
      "cell_type": "code",
      "execution_count": 44,
      "metadata": {
        "colab": {
          "base_uri": "https://localhost:8080/"
        },
        "execution": {
          "iopub.execute_input": "2023-12-05T13:39:38.412661Z",
          "iopub.status.busy": "2023-12-05T13:39:38.411368Z",
          "iopub.status.idle": "2023-12-05T13:39:38.427798Z",
          "shell.execute_reply": "2023-12-05T13:39:38.426457Z",
          "shell.execute_reply.started": "2023-12-05T13:39:38.412617Z"
        },
        "id": "9T0aq6UBCWIW",
        "outputId": "38e47704-72b9-4550-dbfd-0368d0d5b357",
        "trusted": true
      },
      "outputs": [
        {
          "name": "stdout",
          "output_type": "stream",
          "text": [
            "PassengerId       0\n",
            "HomePlanet      201\n",
            "CryoSleep       217\n",
            "Cabin           199\n",
            "Destination     182\n",
            "Age             179\n",
            "VIP             203\n",
            "RoomService     181\n",
            "FoodCourt       183\n",
            "ShoppingMall    208\n",
            "Spa             183\n",
            "VRDeck          188\n",
            "Name            200\n",
            "Transported       0\n",
            "dtype: int64\n"
          ]
        }
      ],
      "source": [
        "#Display null values in the train dataset\n",
        "print(train.isnull().sum())"
      ]
    },
    {
      "cell_type": "code",
      "execution_count": 45,
      "metadata": {
        "colab": {
          "base_uri": "https://localhost:8080/"
        },
        "execution": {
          "iopub.execute_input": "2023-12-05T13:39:42.926529Z",
          "iopub.status.busy": "2023-12-05T13:39:42.926029Z",
          "iopub.status.idle": "2023-12-05T13:39:42.960393Z",
          "shell.execute_reply": "2023-12-05T13:39:42.959015Z",
          "shell.execute_reply.started": "2023-12-05T13:39:42.926494Z"
        },
        "id": "q_kmGoXQCWIX",
        "outputId": "768d8c24-69ef-43a4-bebf-deb9cee2a745",
        "trusted": true
      },
      "outputs": [
        {
          "name": "stdout",
          "output_type": "stream",
          "text": [
            "               Age   RoomService     FoodCourt  ShoppingMall           Spa  \\\n",
            "count  8514.000000   8512.000000   8510.000000   8485.000000   8510.000000   \n",
            "mean     28.827930    224.687617    458.077203    173.729169    311.138778   \n",
            "std      14.489021    666.717663   1611.489240    604.696458   1136.705535   \n",
            "min       0.000000      0.000000      0.000000      0.000000      0.000000   \n",
            "25%      19.000000      0.000000      0.000000      0.000000      0.000000   \n",
            "50%      27.000000      0.000000      0.000000      0.000000      0.000000   \n",
            "75%      38.000000     47.000000     76.000000     27.000000     59.000000   \n",
            "max      79.000000  14327.000000  29813.000000  23492.000000  22408.000000   \n",
            "\n",
            "             VRDeck  \n",
            "count   8505.000000  \n",
            "mean     304.854791  \n",
            "std     1145.717189  \n",
            "min        0.000000  \n",
            "25%        0.000000  \n",
            "50%        0.000000  \n",
            "75%       46.000000  \n",
            "max    24133.000000  \n"
          ]
        }
      ],
      "source": [
        "#Show statistical summary of numerical features in the train dataset\n",
        "print(train[['Age', 'RoomService', 'FoodCourt', 'ShoppingMall', 'Spa', 'VRDeck']].describe())"
      ]
    },
    {
      "cell_type": "code",
      "execution_count": 46,
      "metadata": {
        "colab": {
          "base_uri": "https://localhost:8080/"
        },
        "execution": {
          "iopub.execute_input": "2023-12-05T13:39:45.933915Z",
          "iopub.status.busy": "2023-12-05T13:39:45.933516Z",
          "iopub.status.idle": "2023-12-05T13:39:45.941123Z",
          "shell.execute_reply": "2023-12-05T13:39:45.94024Z",
          "shell.execute_reply.started": "2023-12-05T13:39:45.933882Z"
        },
        "id": "r9JEGaChCWIY",
        "outputId": "b9747fc0-7ee2-4f13-fe53-f139148335f8",
        "trusted": true
      },
      "outputs": [
        {
          "name": "stdout",
          "output_type": "stream",
          "text": [
            "PassengerId      object\n",
            "HomePlanet       object\n",
            "CryoSleep        object\n",
            "Cabin            object\n",
            "Destination      object\n",
            "Age             float64\n",
            "VIP              object\n",
            "RoomService     float64\n",
            "FoodCourt       float64\n",
            "ShoppingMall    float64\n",
            "Spa             float64\n",
            "VRDeck          float64\n",
            "Name             object\n",
            "Transported        bool\n",
            "dtype: object\n"
          ]
        }
      ],
      "source": [
        "#Display data types in the train dataset\n",
        "print(train.dtypes)"
      ]
    },
    {
      "cell_type": "code",
      "execution_count": 47,
      "metadata": {
        "colab": {
          "base_uri": "https://localhost:8080/"
        },
        "execution": {
          "iopub.execute_input": "2023-12-05T13:39:48.646358Z",
          "iopub.status.busy": "2023-12-05T13:39:48.645561Z",
          "iopub.status.idle": "2023-12-05T13:39:48.662649Z",
          "shell.execute_reply": "2023-12-05T13:39:48.66088Z",
          "shell.execute_reply.started": "2023-12-05T13:39:48.646307Z"
        },
        "id": "fJuyKXA8CWIZ",
        "outputId": "2c9a36f2-99b3-4172-b010-36ab74d280e2",
        "trusted": true
      },
      "outputs": [
        {
          "name": "stdout",
          "output_type": "stream",
          "text": [
            "\n",
            "PassengerId: ['0001_01' '0002_01' '0003_01' ... '9279_01' '9280_01' '9280_02']\n",
            "\n",
            "HomePlanet: ['Europa' 'Earth' 'Mars' nan]\n",
            "\n",
            "CryoSleep: [False True nan]\n",
            "\n",
            "Cabin: ['B/0/P' 'F/0/S' 'A/0/S' ... 'G/1499/S' 'G/1500/S' 'E/608/S']\n",
            "\n",
            "Destination: ['TRAPPIST-1e' 'PSO J318.5-22' '55 Cancri e' nan]\n",
            "\n",
            "VIP: [False True nan]\n",
            "\n",
            "Name: ['Maham Ofracculy' 'Juanna Vines' 'Altark Susent' ... 'Fayey Connon'\n",
            " 'Celeon Hontichre' 'Propsh Hontichre']\n"
          ]
        }
      ],
      "source": [
        "#Display unique values in categorical features of the train dataset\n",
        "for column in train.select_dtypes(include=['object']).columns:\n",
        "    print(f\"\\n{column}: {train[column].unique()}\")\n"
      ]
    },
    {
      "cell_type": "markdown",
      "metadata": {
        "id": "HjBm2UFcCWIZ"
      },
      "source": [
        "###Data Cleaning(Handling missing values)\n",
        "\n",
        "Here, we are just wranggling the data, or cleaning the data, making it easier for us to use."
      ]
    },
    {
      "cell_type": "code",
      "execution_count": 48,
      "metadata": {
        "execution": {
          "iopub.execute_input": "2023-12-05T13:39:51.715687Z",
          "iopub.status.busy": "2023-12-05T13:39:51.714941Z",
          "iopub.status.idle": "2023-12-05T13:39:51.725154Z",
          "shell.execute_reply": "2023-12-05T13:39:51.724007Z",
          "shell.execute_reply.started": "2023-12-05T13:39:51.715629Z"
        },
        "id": "D5B2A8WLCWIa",
        "trusted": true
      },
      "outputs": [],
      "source": [
        "# Split numerical and categorical columns\n",
        "numerical_cols = train.select_dtypes(include=['float64']).columns\n",
        "categorical_cols = train.select_dtypes(include=['object']).columns\n"
      ]
    },
    {
      "cell_type": "code",
      "execution_count": 49,
      "metadata": {
        "execution": {
          "iopub.execute_input": "2023-12-05T13:39:54.26972Z",
          "iopub.status.busy": "2023-12-05T13:39:54.269315Z",
          "iopub.status.idle": "2023-12-05T13:39:54.292535Z",
          "shell.execute_reply": "2023-12-05T13:39:54.290977Z",
          "shell.execute_reply.started": "2023-12-05T13:39:54.269688Z"
        },
        "id": "xScfm4sDCWIa",
        "trusted": true
      },
      "outputs": [],
      "source": [
        "# fill numerical columns with median\n",
        "numerical_imputer = SimpleImputer(strategy='median')\n",
        "train[numerical_cols] = numerical_imputer.fit_transform(train[numerical_cols])\n"
      ]
    },
    {
      "cell_type": "code",
      "execution_count": 50,
      "metadata": {
        "execution": {
          "iopub.execute_input": "2023-12-05T13:39:57.17298Z",
          "iopub.status.busy": "2023-12-05T13:39:57.172409Z",
          "iopub.status.idle": "2023-12-05T13:39:57.218517Z",
          "shell.execute_reply": "2023-12-05T13:39:57.216664Z",
          "shell.execute_reply.started": "2023-12-05T13:39:57.172933Z"
        },
        "id": "zhS9bIHhCWIb",
        "trusted": true
      },
      "outputs": [],
      "source": [
        "# fill categorical columns with the most frequent value\n",
        "categorical_imputer = SimpleImputer(strategy='most_frequent')\n",
        "train[categorical_cols] = categorical_imputer.fit_transform(train[categorical_cols])"
      ]
    },
    {
      "cell_type": "markdown",
      "metadata": {
        "id": "Q33c1B6uCWIb"
      },
      "source": [
        "### Feature Engineering\n"
      ]
    },
    {
      "cell_type": "code",
      "execution_count": 51,
      "metadata": {
        "execution": {
          "iopub.execute_input": "2023-12-05T13:39:59.924348Z",
          "iopub.status.busy": "2023-12-05T13:39:59.923911Z",
          "iopub.status.idle": "2023-12-05T13:39:59.945242Z",
          "shell.execute_reply": "2023-12-05T13:39:59.944135Z",
          "shell.execute_reply.started": "2023-12-05T13:39:59.924296Z"
        },
        "id": "4NmCgCWeCWIb",
        "trusted": true
      },
      "outputs": [],
      "source": [
        "#information from the 'Name' column\n",
        "train['Title'] = train['Name'].apply(lambda x: x.split(' ')[1])\n",
        "train['Title'] = train['Title'].apply(lambda x: 'Rare' if x not in ['Mr.', 'Mrs.', 'Miss.', 'Master.'] else x)\n"
      ]
    },
    {
      "cell_type": "markdown",
      "metadata": {
        "id": "YG9X3VW-CWIb"
      },
      "source": [
        "# Visualize relationships in the data for numerical columns\n",
        "\n",
        "In this section, we are creating a correlation heatmap to visually explore the relationships between numerical features in the training dataset"
      ]
    },
    {
      "cell_type": "code",
      "execution_count": 52,
      "metadata": {
        "colab": {
          "base_uri": "https://localhost:8080/",
          "height": 666
        },
        "execution": {
          "iopub.execute_input": "2023-12-05T13:40:03.861395Z",
          "iopub.status.busy": "2023-12-05T13:40:03.860958Z",
          "iopub.status.idle": "2023-12-05T13:40:04.430129Z",
          "shell.execute_reply": "2023-12-05T13:40:04.428872Z",
          "shell.execute_reply.started": "2023-12-05T13:40:03.861355Z"
        },
        "id": "LyehnhCwCWIc",
        "outputId": "d32455f6-e7ee-4d86-9434-bf7ddd1d23c1",
        "trusted": true
      },
      "outputs": [
        {
          "data": {
            "image/png": "[encoded data removed]",
            "text/plain": [
              "<Figure size 1200x800 with 2 Axes>"
            ]
          },
          "metadata": {},
          "output_type": "display_data"
        }
      ],
      "source": [
        "# List of numerical features\n",
        "numerical_features = ['Age', 'RoomService', 'FoodCourt', 'ShoppingMall', 'Spa', 'VRDeck']\n",
        "\n",
        "\n",
        "plt.figure(figsize=(12, 8))\n",
        "sns.heatmap(train[numerical_features].corr(), annot=True, cmap='coolwarm', fmt=\".2f\")\n",
        "plt.title('Correlation Heatmap for Numerical Columns')\n",
        "plt.show()\n"
      ]
    },
    {
      "cell_type": "markdown",
      "metadata": {
        "id": "1aFAynP4CWIc"
      },
      "source": [
        "# Model Building\n",
        "\n",
        "Now we need to prepare the data for training a ML model"
      ]
    },
    {
      "cell_type": "code",
      "execution_count": 53,
      "metadata": {
        "execution": {
          "iopub.execute_input": "2023-12-05T13:40:08.368901Z",
          "iopub.status.busy": "2023-12-05T13:40:08.368351Z",
          "iopub.status.idle": "2023-12-05T13:40:08.378507Z",
          "shell.execute_reply": "2023-12-05T13:40:08.376898Z",
          "shell.execute_reply.started": "2023-12-05T13:40:08.36886Z"
        },
        "id": "0MRjlnT0CWIc",
        "trusted": true
      },
      "outputs": [],
      "source": [
        "#Define features and target variable\n",
        "X = train.drop(['PassengerId', 'Name', 'Transported'], axis=1)\n",
        "y = train['Transported']\n",
        "\n",
        "#Split the dataset into training and validation sets\n",
        "X_train, X_valid, y_train, y_valid = train_test_split(X, y, test_size=0.2, random_state=42)"
      ]
    },
    {
      "cell_type": "code",
      "execution_count": 54,
      "metadata": {
        "execution": {
          "iopub.execute_input": "2023-12-05T13:40:20.21783Z",
          "iopub.status.busy": "2023-12-05T13:40:20.217421Z",
          "iopub.status.idle": "2023-12-05T13:40:20.228831Z",
          "shell.execute_reply": "2023-12-05T13:40:20.227141Z",
          "shell.execute_reply.started": "2023-12-05T13:40:20.217783Z"
        },
        "id": "KeFjKJwdCWIe",
        "trusted": true
      },
      "outputs": [],
      "source": [
        "#Preprocessing for numerical and categorical data\n",
        "numerical_features = X.select_dtypes(include=['float64']).columns\n",
        "categorical_features = X.select_dtypes(include=['object']).columns\n",
        "\n",
        "numerical_transformer = Pipeline(steps=[\n",
        "    ('scaler', StandardScaler())\n",
        "])\n",
        "\n",
        "categorical_transformer = Pipeline(steps=[\n",
        "    ('onehot', OneHotEncoder(handle_unknown='ignore'))\n",
        "])\n",
        "\n",
        "#Bundle preprocessing for numerical and categorical data\n",
        "preprocessor = ColumnTransformer(\n",
        "    transformers=[\n",
        "        ('num', numerical_transformer, numerical_features),\n",
        "        ('cat', categorical_transformer, categorical_features)\n",
        "    ])"
      ]
    },
    {
      "cell_type": "code",
      "execution_count": 55,
      "metadata": {
        "execution": {
          "iopub.execute_input": "2023-12-05T13:40:25.665163Z",
          "iopub.status.busy": "2023-12-05T13:40:25.664758Z",
          "iopub.status.idle": "2023-12-05T13:40:25.670979Z",
          "shell.execute_reply": "2023-12-05T13:40:25.669844Z",
          "shell.execute_reply.started": "2023-12-05T13:40:25.66513Z"
        },
        "id": "0HcKHW96CWIf",
        "trusted": true
      },
      "outputs": [],
      "source": [
        "#Define the model\n",
        "model = RandomForestClassifier(n_estimators=100, random_state=42, class_weight='balanced')"
      ]
    },
    {
      "cell_type": "code",
      "execution_count": 56,
      "metadata": {
        "execution": {
          "iopub.execute_input": "2023-12-05T13:40:28.016856Z",
          "iopub.status.busy": "2023-12-05T13:40:28.015852Z",
          "iopub.status.idle": "2023-12-05T13:40:28.023244Z",
          "shell.execute_reply": "2023-12-05T13:40:28.021866Z",
          "shell.execute_reply.started": "2023-12-05T13:40:28.016806Z"
        },
        "id": "4z5TTVdPCWIg",
        "trusted": true
      },
      "outputs": [],
      "source": [
        "#Bundle preprocessing and modeling code in a pipeline\n",
        "clf = Pipeline(steps=[('preprocessor', preprocessor),\n",
        "                      ('model', model)])"
      ]
    },
    {
      "cell_type": "markdown",
      "metadata": {
        "id": "Cs6Ua0N9CWIg"
      },
      "source": [
        "# Model Evaluation\n",
        "\n",
        "performing cross-validation to assess the model's performance before making predictions on the validation set."
      ]
    },
    {
      "cell_type": "code",
      "execution_count": 57,
      "metadata": {
        "colab": {
          "base_uri": "https://localhost:8080/"
        },
        "execution": {
          "iopub.execute_input": "2023-12-05T13:40:30.308381Z",
          "iopub.status.busy": "2023-12-05T13:40:30.307907Z",
          "iopub.status.idle": "2023-12-05T13:41:08.98304Z",
          "shell.execute_reply": "2023-12-05T13:41:08.9818Z",
          "shell.execute_reply.started": "2023-12-05T13:40:30.308343Z"
        },
        "id": "zN7GjM6RCWIr",
        "outputId": "480685a3-64bd-4b70-fa67-0e69be2ee7de",
        "trusted": true
      },
      "outputs": [
        {
          "name": "stdout",
          "output_type": "stream",
          "text": [
            "\n",
            "Cross-Validation Accuracy: 0.7901788059881246\n"
          ]
        }
      ],
      "source": [
        "#Evaluate the model using cross-validation\n",
        "scores = cross_val_score(clf, X, y, cv=5, scoring='accuracy')\n",
        "print(f\"\\nCross-Validation Accuracy: {np.mean(scores)}\")"
      ]
    },
    {
      "cell_type": "code",
      "execution_count": 58,
      "metadata": {
        "colab": {
          "base_uri": "https://localhost:8080/",
          "height": 195
        },
        "execution": {
          "iopub.execute_input": "2023-12-05T13:43:25.582151Z",
          "iopub.status.busy": "2023-12-05T13:43:25.581718Z",
          "iopub.status.idle": "2023-12-05T13:43:32.943537Z",
          "shell.execute_reply": "2023-12-05T13:43:32.942153Z",
          "shell.execute_reply.started": "2023-12-05T13:43:25.582119Z"
        },
        "id": "HvQ2xh6kCWIs",
        "outputId": "9fda85a0-e6e1-49bc-a6da-b9603b5f827f",
        "trusted": true
      },
      "outputs": [
        {
          "data": {
            "text/html": [
              "<style>#sk-container-id-2 {color: black;background-color: white;}#sk-container-id-2 pre{padding: 0;}#sk-container-id-2 div.sk-toggleable {background-color: white;}#sk-container-id-2 label.sk-toggleable__label {cursor: pointer;display: block;width: 100%;margin-bottom: 0;padding: 0.3em;box-sizing: border-box;text-align: center;}#sk-container-id-2 label.sk-toggleable__label-arrow:before {content: \"▸\";float: left;margin-right: 0.25em;color: #696969;}#sk-container-id-2 label.sk-toggleable__label-arrow:hover:before {color: black;}#sk-container-id-2 div.sk-estimator:hover label.sk-toggleable__label-arrow:before {color: black;}#sk-container-id-2 div.sk-toggleable__content {max-height: 0;max-width: 0;overflow: hidden;text-align: left;background-color: #f0f8ff;}#sk-container-id-2 div.sk-toggleable__content pre {margin: 0.2em;color: black;border-radius: 0.25em;background-color: #f0f8ff;}#sk-container-id-2 input.sk-toggleable__control:checked~div.sk-toggleable__content {max-height: 200px;max-width: 100%;overflow: auto;}#sk-container-id-2 input.sk-toggleable__control:checked~label.sk-toggleable__label-arrow:before {content: \"▾\";}#sk-container-id-2 div.sk-estimator input.sk-toggleable__control:checked~label.sk-toggleable__label {background-color: #d4ebff;}#sk-container-id-2 div.sk-label input.sk-toggleable__control:checked~label.sk-toggleable__label {background-color: #d4ebff;}#sk-container-id-2 input.sk-hidden--visually {border: 0;clip: rect(1px 1px 1px 1px);clip: rect(1px, 1px, 1px, 1px);height: 1px;margin: -1px;overflow: hidden;padding: 0;position: absolute;width: 1px;}#sk-container-id-2 div.sk-estimator {font-family: monospace;background-color: #f0f8ff;border: 1px dotted black;border-radius: 0.25em;box-sizing: border-box;margin-bottom: 0.5em;}#sk-container-id-2 div.sk-estimator:hover {background-color: #d4ebff;}#sk-container-id-2 div.sk-parallel-item::after {content: \"\";width: 100%;border-bottom: 1px solid gray;flex-grow: 1;}#sk-container-id-2 div.sk-label:hover label.sk-toggleable__label {background-color: #d4ebff;}#sk-container-id-2 div.sk-serial::before {content: \"\";position: absolute;border-left: 1px solid gray;box-sizing: border-box;top: 0;bottom: 0;left: 50%;z-index: 0;}#sk-container-id-2 div.sk-serial {display: flex;flex-direction: column;align-items: center;background-color: white;padding-right: 0.2em;padding-left: 0.2em;position: relative;}#sk-container-id-2 div.sk-item {position: relative;z-index: 1;}#sk-container-id-2 div.sk-parallel {display: flex;align-items: stretch;justify-content: center;background-color: white;position: relative;}#sk-container-id-2 div.sk-item::before, #sk-container-id-2 div.sk-parallel-item::before {content: \"\";position: absolute;border-left: 1px solid gray;box-sizing: border-box;top: 0;bottom: 0;left: 50%;z-index: -1;}#sk-container-id-2 div.sk-parallel-item {display: flex;flex-direction: column;z-index: 1;position: relative;background-color: white;}#sk-container-id-2 div.sk-parallel-item:first-child::after {align-self: flex-end;width: 50%;}#sk-container-id-2 div.sk-parallel-item:last-child::after {align-self: flex-start;width: 50%;}#sk-container-id-2 div.sk-parallel-item:only-child::after {width: 0;}#sk-container-id-2 div.sk-dashed-wrapped {border: 1px dashed gray;margin: 0 0.4em 0.5em 0.4em;box-sizing: border-box;padding-bottom: 0.4em;background-color: white;}#sk-container-id-2 div.sk-label label {font-family: monospace;font-weight: bold;display: inline-block;line-height: 1.2em;}#sk-container-id-2 div.sk-label-container {text-align: center;}#sk-container-id-2 div.sk-container {/* jupyter's `normalize.less` sets `[hidden] { display: none; }` but bootstrap.min.css set `[hidden] { display: none !important; }` so we also need the `!important` here to be able to override the default hidden behavior on the sphinx rendered scikit-learn.org. See: https://github.com/scikit-learn/scikit-learn/issues/21755 */display: inline-block !important;position: relative;}#sk-container-id-2 div.sk-text-repr-fallback {display: none;}</style><div id=\"sk-container-id-2\" class=\"sk-top-container\"><div class=\"sk-text-repr-fallback\"><pre>Pipeline(steps=[(&#x27;preprocessor&#x27;,\n",
              "                 ColumnTransformer(transformers=[(&#x27;num&#x27;,\n",
              "                                                  Pipeline(steps=[(&#x27;scaler&#x27;,\n",
              "                                                                   StandardScaler())]),\n",
              "                                                  Index([&#x27;Age&#x27;, &#x27;RoomService&#x27;, &#x27;FoodCourt&#x27;, &#x27;ShoppingMall&#x27;, &#x27;Spa&#x27;, &#x27;VRDeck&#x27;], dtype=&#x27;object&#x27;)),\n",
              "                                                 (&#x27;cat&#x27;,\n",
              "                                                  Pipeline(steps=[(&#x27;onehot&#x27;,\n",
              "                                                                   OneHotEncoder(handle_unknown=&#x27;ignore&#x27;))]),\n",
              "                                                  Index([&#x27;HomePlanet&#x27;, &#x27;CryoSleep&#x27;, &#x27;Cabin&#x27;, &#x27;Destination&#x27;, &#x27;VIP&#x27;, &#x27;Title&#x27;], dtype=&#x27;object&#x27;))])),\n",
              "                (&#x27;model&#x27;,\n",
              "                 RandomForestClassifier(class_weight=&#x27;balanced&#x27;,\n",
              "                                        random_state=42))])</pre><b>In a Jupyter environment, please rerun this cell to show the HTML representation or trust the notebook. <br />On GitHub, the HTML representation is unable to render, please try loading this page with nbviewer.org.</b></div><div class=\"sk-container\" hidden><div class=\"sk-item sk-dashed-wrapped\"><div class=\"sk-label-container\"><div class=\"sk-label sk-toggleable\"><input class=\"sk-toggleable__control sk-hidden--visually\" id=\"sk-estimator-id-8\" type=\"checkbox\" ><label for=\"sk-estimator-id-8\" class=\"sk-toggleable__label sk-toggleable__label-arrow\">Pipeline</label><div class=\"sk-toggleable__content\"><pre>Pipeline(steps=[(&#x27;preprocessor&#x27;,\n",
              "                 ColumnTransformer(transformers=[(&#x27;num&#x27;,\n",
              "                                                  Pipeline(steps=[(&#x27;scaler&#x27;,\n",
              "                                                                   StandardScaler())]),\n",
              "                                                  Index([&#x27;Age&#x27;, &#x27;RoomService&#x27;, &#x27;FoodCourt&#x27;, &#x27;ShoppingMall&#x27;, &#x27;Spa&#x27;, &#x27;VRDeck&#x27;], dtype=&#x27;object&#x27;)),\n",
              "                                                 (&#x27;cat&#x27;,\n",
              "                                                  Pipeline(steps=[(&#x27;onehot&#x27;,\n",
              "                                                                   OneHotEncoder(handle_unknown=&#x27;ignore&#x27;))]),\n",
              "                                                  Index([&#x27;HomePlanet&#x27;, &#x27;CryoSleep&#x27;, &#x27;Cabin&#x27;, &#x27;Destination&#x27;, &#x27;VIP&#x27;, &#x27;Title&#x27;], dtype=&#x27;object&#x27;))])),\n",
              "                (&#x27;model&#x27;,\n",
              "                 RandomForestClassifier(class_weight=&#x27;balanced&#x27;,\n",
              "                                        random_state=42))])</pre></div></div></div><div class=\"sk-serial\"><div class=\"sk-item sk-dashed-wrapped\"><div class=\"sk-label-container\"><div class=\"sk-label sk-toggleable\"><input class=\"sk-toggleable__control sk-hidden--visually\" id=\"sk-estimator-id-9\" type=\"checkbox\" ><label for=\"sk-estimator-id-9\" class=\"sk-toggleable__label sk-toggleable__label-arrow\">preprocessor: ColumnTransformer</label><div class=\"sk-toggleable__content\"><pre>ColumnTransformer(transformers=[(&#x27;num&#x27;,\n",
              "                                 Pipeline(steps=[(&#x27;scaler&#x27;, StandardScaler())]),\n",
              "                                 Index([&#x27;Age&#x27;, &#x27;RoomService&#x27;, &#x27;FoodCourt&#x27;, &#x27;ShoppingMall&#x27;, &#x27;Spa&#x27;, &#x27;VRDeck&#x27;], dtype=&#x27;object&#x27;)),\n",
              "                                (&#x27;cat&#x27;,\n",
              "                                 Pipeline(steps=[(&#x27;onehot&#x27;,\n",
              "                                                  OneHotEncoder(handle_unknown=&#x27;ignore&#x27;))]),\n",
              "                                 Index([&#x27;HomePlanet&#x27;, &#x27;CryoSleep&#x27;, &#x27;Cabin&#x27;, &#x27;Destination&#x27;, &#x27;VIP&#x27;, &#x27;Title&#x27;], dtype=&#x27;object&#x27;))])</pre></div></div></div><div class=\"sk-parallel\"><div class=\"sk-parallel-item\"><div class=\"sk-item\"><div class=\"sk-label-container\"><div class=\"sk-label sk-toggleable\"><input class=\"sk-toggleable__control sk-hidden--visually\" id=\"sk-estimator-id-10\" type=\"checkbox\" ><label for=\"sk-estimator-id-10\" class=\"sk-toggleable__label sk-toggleable__label-arrow\">num</label><div class=\"sk-toggleable__content\"><pre>Index([&#x27;Age&#x27;, &#x27;RoomService&#x27;, &#x27;FoodCourt&#x27;, &#x27;ShoppingMall&#x27;, &#x27;Spa&#x27;, &#x27;VRDeck&#x27;], dtype=&#x27;object&#x27;)</pre></div></div></div><div class=\"sk-serial\"><div class=\"sk-item\"><div class=\"sk-serial\"><div class=\"sk-item\"><div class=\"sk-estimator sk-toggleable\"><input class=\"sk-toggleable__control sk-hidden--visually\" id=\"sk-estimator-id-11\" type=\"checkbox\" ><label for=\"sk-estimator-id-11\" class=\"sk-toggleable__label sk-toggleable__label-arrow\">StandardScaler</label><div class=\"sk-toggleable__content\"><pre>StandardScaler()</pre></div></div></div></div></div></div></div></div><div class=\"sk-parallel-item\"><div class=\"sk-item\"><div class=\"sk-label-container\"><div class=\"sk-label sk-toggleable\"><input class=\"sk-toggleable__control sk-hidden--visually\" id=\"sk-estimator-id-12\" type=\"checkbox\" ><label for=\"sk-estimator-id-12\" class=\"sk-toggleable__label sk-toggleable__label-arrow\">cat</label><div class=\"sk-toggleable__content\"><pre>Index([&#x27;HomePlanet&#x27;, &#x27;CryoSleep&#x27;, &#x27;Cabin&#x27;, &#x27;Destination&#x27;, &#x27;VIP&#x27;, &#x27;Title&#x27;], dtype=&#x27;object&#x27;)</pre></div></div></div><div class=\"sk-serial\"><div class=\"sk-item\"><div class=\"sk-serial\"><div class=\"sk-item\"><div class=\"sk-estimator sk-toggleable\"><input class=\"sk-toggleable__control sk-hidden--visually\" id=\"sk-estimator-id-13\" type=\"checkbox\" ><label for=\"sk-estimator-id-13\" class=\"sk-toggleable__label sk-toggleable__label-arrow\">OneHotEncoder</label><div class=\"sk-toggleable__content\"><pre>OneHotEncoder(handle_unknown=&#x27;ignore&#x27;)</pre></div></div></div></div></div></div></div></div></div></div><div class=\"sk-item\"><div class=\"sk-estimator sk-toggleable\"><input class=\"sk-toggleable__control sk-hidden--visually\" id=\"sk-estimator-id-14\" type=\"checkbox\" ><label for=\"sk-estimator-id-14\" class=\"sk-toggleable__label sk-toggleable__label-arrow\">RandomForestClassifier</label><div class=\"sk-toggleable__content\"><pre>RandomForestClassifier(class_weight=&#x27;balanced&#x27;, random_state=42)</pre></div></div></div></div></div></div></div>"
            ],
            "text/plain": [
              "Pipeline(steps=[('preprocessor',\n",
              "                 ColumnTransformer(transformers=[('num',\n",
              "                                                  Pipeline(steps=[('scaler',\n",
              "                                                                   StandardScaler())]),\n",
              "                                                  Index(['Age', 'RoomService', 'FoodCourt', 'ShoppingMall', 'Spa', 'VRDeck'], dtype='object')),\n",
              "                                                 ('cat',\n",
              "                                                  Pipeline(steps=[('onehot',\n",
              "                                                                   OneHotEncoder(handle_unknown='ignore'))]),\n",
              "                                                  Index(['HomePlanet', 'CryoSleep', 'Cabin', 'Destination', 'VIP', 'Title'], dtype='object'))])),\n",
              "                ('model',\n",
              "                 RandomForestClassifier(class_weight='balanced',\n",
              "                                        random_state=42))])"
            ]
          },
          "execution_count": 58,
          "metadata": {},
          "output_type": "execute_result"
        }
      ],
      "source": [
        "#Fit model\n",
        "#Evaluate the model using cross-validation\n",
        "clf.fit(X_train, y_train)"
      ]
    },
    {
      "cell_type": "code",
      "execution_count": 59,
      "metadata": {
        "execution": {
          "iopub.execute_input": "2023-12-05T13:43:35.173597Z",
          "iopub.status.busy": "2023-12-05T13:43:35.173179Z",
          "iopub.status.idle": "2023-12-05T13:43:35.344226Z",
          "shell.execute_reply": "2023-12-05T13:43:35.342956Z",
          "shell.execute_reply.started": "2023-12-05T13:43:35.173564Z"
        },
        "id": "kcmfKvcQCWIs",
        "trusted": true
      },
      "outputs": [],
      "source": [
        "#Predictions on validation set\n",
        "y_pred_valid = clf.predict(X_valid)"
      ]
    },
    {
      "cell_type": "markdown",
      "metadata": {
        "id": "D0fpJ-0kCWIt"
      },
      "source": [
        "# Calculate accuracy on the validation set"
      ]
    },
    {
      "cell_type": "code",
      "execution_count": 60,
      "metadata": {
        "colab": {
          "base_uri": "https://localhost:8080/"
        },
        "execution": {
          "iopub.execute_input": "2023-12-05T13:43:38.11909Z",
          "iopub.status.busy": "2023-12-05T13:43:38.118608Z",
          "iopub.status.idle": "2023-12-05T13:43:38.128247Z",
          "shell.execute_reply": "2023-12-05T13:43:38.12684Z",
          "shell.execute_reply.started": "2023-12-05T13:43:38.119053Z"
        },
        "id": "T5--M4GgCWIt",
        "outputId": "4eb4b659-d50e-4f70-a4e6-927dd862ffca",
        "trusted": true
      },
      "outputs": [
        {
          "name": "stdout",
          "output_type": "stream",
          "text": [
            "\n",
            "Validation Set Accuracy: 0.7878090856814262\n"
          ]
        }
      ],
      "source": [
        "accuracy = accuracy_score(y_valid, y_pred_valid)\n",
        "print(f\"\\nValidation Set Accuracy: {accuracy}\")"
      ]
    },
    {
      "cell_type": "code",
      "execution_count": 61,
      "metadata": {
        "execution": {
          "iopub.execute_input": "2023-12-05T13:43:42.813616Z",
          "iopub.status.busy": "2023-12-05T13:43:42.813177Z",
          "iopub.status.idle": "2023-12-05T13:43:42.848683Z",
          "shell.execute_reply": "2023-12-05T13:43:42.847233Z",
          "shell.execute_reply.started": "2023-12-05T13:43:42.813581Z"
        },
        "id": "RiFNRVMJCWIt",
        "trusted": true
      },
      "outputs": [],
      "source": [
        "#Feature Importance\n",
        "feature_importance = clf.named_steps['model'].feature_importances_\n",
        "categorical_features_names = clf.named_steps['preprocessor'].transformers_[1][1]\\\n",
        "                              .named_steps['onehot'].get_feature_names_out(input_features=categorical_features)\n",
        "features = numerical_features.tolist() + categorical_features_names.tolist()\n",
        "feature_importance_df = pd.DataFrame({'Feature': features, 'Importance': feature_importance})\n",
        "feature_importance_df.sort_values(by='Importance', ascending=False, inplace=True)\n"
      ]
    },
    {
      "cell_type": "markdown",
      "metadata": {
        "id": "WJKQJH21CWIu"
      },
      "source": [
        "#  predictions on the test set"
      ]
    },
    {
      "cell_type": "code",
      "execution_count": 62,
      "metadata": {
        "execution": {
          "iopub.execute_input": "2023-12-05T13:43:45.687807Z",
          "iopub.status.busy": "2023-12-05T13:43:45.687395Z",
          "iopub.status.idle": "2023-12-05T13:43:45.709445Z",
          "shell.execute_reply": "2023-12-05T13:43:45.707594Z",
          "shell.execute_reply.started": "2023-12-05T13:43:45.687773Z"
        },
        "id": "QQXN_CheCWIu",
        "trusted": true
      },
      "outputs": [],
      "source": [
        "# Use the same imputers to transform the test data\n",
        "test[numerical_cols] = numerical_imputer.transform(test[numerical_cols])\n",
        "test[categorical_cols] = categorical_imputer.transform(test[categorical_cols])\n",
        "\n",
        "# Now you can proceed with the rest of your code\n",
        "test_data_imputed = test.drop(['PassengerId', 'Name'], axis=1)\n"
      ]
    },
    {
      "cell_type": "code",
      "execution_count": 63,
      "metadata": {
        "execution": {
          "iopub.execute_input": "2023-12-05T13:43:48.825004Z",
          "iopub.status.busy": "2023-12-05T13:43:48.824536Z",
          "iopub.status.idle": "2023-12-05T13:43:48.838311Z",
          "shell.execute_reply": "2023-12-05T13:43:48.836961Z",
          "shell.execute_reply.started": "2023-12-05T13:43:48.824969Z"
        },
        "id": "8bNNMpshCWIv",
        "trusted": true
      },
      "outputs": [],
      "source": [
        "# Feature Engineering for Test Data\n",
        "test['Title'] = test['Name'].apply(lambda x: x.split(' ')[1])\n",
        "test['Title'] = test['Title'].apply(lambda x: 'Rare' if x not in ['Mr.', 'Mrs.', 'Miss.', 'Master.'] else x)"
      ]
    },
    {
      "cell_type": "code",
      "execution_count": 64,
      "metadata": {
        "execution": {
          "iopub.execute_input": "2023-12-05T13:43:52.136495Z",
          "iopub.status.busy": "2023-12-05T13:43:52.136051Z",
          "iopub.status.idle": "2023-12-05T13:43:52.144672Z",
          "shell.execute_reply": "2023-12-05T13:43:52.143388Z",
          "shell.execute_reply.started": "2023-12-05T13:43:52.136462Z"
        },
        "id": "OkAPqjGbCWIw",
        "trusted": true
      },
      "outputs": [],
      "source": [
        "# Define features for test data\n",
        "X_test = test.drop(['PassengerId', 'Name'], axis=1)\n",
        "\n"
      ]
    },
    {
      "cell_type": "code",
      "execution_count": 65,
      "metadata": {
        "execution": {
          "iopub.execute_input": "2023-12-05T13:43:54.620439Z",
          "iopub.status.busy": "2023-12-05T13:43:54.619807Z",
          "iopub.status.idle": "2023-12-05T13:43:54.969189Z",
          "shell.execute_reply": "2023-12-05T13:43:54.967942Z",
          "shell.execute_reply.started": "2023-12-05T13:43:54.620404Z"
        },
        "id": "MZ-CmOQmCWIw",
        "trusted": true
      },
      "outputs": [],
      "source": [
        "test_predictions = clf.predict(X_test)"
      ]
    },
    {
      "cell_type": "code",
      "execution_count": 66,
      "metadata": {
        "execution": {
          "iopub.execute_input": "2023-12-05T13:43:58.17146Z",
          "iopub.status.busy": "2023-12-05T13:43:58.171002Z",
          "iopub.status.idle": "2023-12-05T13:43:58.192208Z",
          "shell.execute_reply": "2023-12-05T13:43:58.191121Z",
          "shell.execute_reply.started": "2023-12-05T13:43:58.171424Z"
        },
        "id": "VVu9Scx-CWIx",
        "trusted": true
      },
      "outputs": [],
      "source": [
        "results = pd.DataFrame({'PassengerId': test['PassengerId'], 'Transported': test_predictions})\n"
      ]
    },
    {
      "cell_type": "code",
      "execution_count": 67,
      "metadata": {
        "colab": {
          "base_uri": "https://localhost:8080/",
          "height": 424
        },
        "id": "PZnynG43CWIy",
        "outputId": "1fc9adb3-25a6-4572-a158-fd80fcd51c41"
      },
      "outputs": [
        {
          "data": {
            "text/html": [
              "\n",
              "  <div id=\"df-41eb7b69-ff34-4c16-8cf8-e53b3cd4e226\" class=\"colab-df-container\">\n",
              "    <div>\n",
              "<style scoped>\n",
              "    .dataframe tbody tr th:only-of-type {\n",
              "        vertical-align: middle;\n",
              "    }\n",
              "\n",
              "    .dataframe tbody tr th {\n",
              "        vertical-align: top;\n",
              "    }\n",
              "\n",
              "    .dataframe thead th {\n",
              "        text-align: right;\n",
              "    }\n",
              "</style>\n",
              "<table border=\"1\" class=\"dataframe\">\n",
              "  <thead>\n",
              "    <tr style=\"text-align: right;\">\n",
              "      <th></th>\n",
              "      <th>PassengerId</th>\n",
              "      <th>Transported</th>\n",
              "    </tr>\n",
              "  </thead>\n",
              "  <tbody>\n",
              "    <tr>\n",
              "      <th>0</th>\n",
              "      <td>0013_01</td>\n",
              "      <td>True</td>\n",
              "    </tr>\n",
              "    <tr>\n",
              "      <th>1</th>\n",
              "      <td>0018_01</td>\n",
              "      <td>False</td>\n",
              "    </tr>\n",
              "    <tr>\n",
              "      <th>2</th>\n",
              "      <td>0019_01</td>\n",
              "      <td>True</td>\n",
              "    </tr>\n",
              "    <tr>\n",
              "      <th>3</th>\n",
              "      <td>0021_01</td>\n",
              "      <td>True</td>\n",
              "    </tr>\n",
              "    <tr>\n",
              "      <th>4</th>\n",
              "      <td>0023_01</td>\n",
              "      <td>True</td>\n",
              "    </tr>\n",
              "    <tr>\n",
              "      <th>...</th>\n",
              "      <td>...</td>\n",
              "      <td>...</td>\n",
              "    </tr>\n",
              "    <tr>\n",
              "      <th>4272</th>\n",
              "      <td>9266_02</td>\n",
              "      <td>True</td>\n",
              "    </tr>\n",
              "    <tr>\n",
              "      <th>4273</th>\n",
              "      <td>9269_01</td>\n",
              "      <td>False</td>\n",
              "    </tr>\n",
              "    <tr>\n",
              "      <th>4274</th>\n",
              "      <td>9271_01</td>\n",
              "      <td>True</td>\n",
              "    </tr>\n",
              "    <tr>\n",
              "      <th>4275</th>\n",
              "      <td>9273_01</td>\n",
              "      <td>True</td>\n",
              "    </tr>\n",
              "    <tr>\n",
              "      <th>4276</th>\n",
              "      <td>9277_01</td>\n",
              "      <td>True</td>\n",
              "    </tr>\n",
              "  </tbody>\n",
              "</table>\n",
              "<p>4277 rows × 2 columns</p>\n",
              "</div>\n",
              "    <div class=\"colab-df-buttons\">\n",
              "\n",
              "  <div class=\"colab-df-container\">\n",
              "    <button class=\"colab-df-convert\" onclick=\"convertToInteractive('df-41eb7b69-ff34-4c16-8cf8-e53b3cd4e226')\"\n",
              "            title=\"Convert this dataframe to an interactive table.\"\n",
              "            style=\"display:none;\">\n",
              "\n",
              "  <svg xmlns=\"http://www.w3.org/2000/svg\" height=\"24px\" viewBox=\"0 -960 960 960\">\n",
              "    <path d=\"M120-120v-720h720v720H120Zm60-500h600v-160H180v160Zm220 220h160v-160H400v160Zm0 220h160v-160H400v160ZM180-400h160v-160H180v160Zm440 0h160v-160H620v160ZM180-180h160v-160H180v160Zm440 0h160v-160H620v160Z\"/>\n",
              "  </svg>\n",
              "    </button>\n",
              "\n",
              "  <style>\n",
              "    .colab-df-container {\n",
              "      display:flex;\n",
              "      gap: 12px;\n",
              "    }\n",
              "\n",
              "    .colab-df-convert {\n",
              "      background-color: #E8F0FE;\n",
              "      border: none;\n",
              "      border-radius: 50%;\n",
              "      cursor: pointer;\n",
              "      display: none;\n",
              "      fill: #1967D2;\n",
              "      height: 32px;\n",
              "      padding: 0 0 0 0;\n",
              "      width: 32px;\n",
              "    }\n",
              "\n",
              "    .colab-df-convert:hover {\n",
              "      background-color: #E2EBFA;\n",
              "      box-shadow: 0px 1px 2px rgba(60, 64, 67, 0.3), 0px 1px 3px 1px rgba(60, 64, 67, 0.15);\n",
              "      fill: #174EA6;\n",
              "    }\n",
              "\n",
              "    .colab-df-buttons div {\n",
              "      margin-bottom: 4px;\n",
              "    }\n",
              "\n",
              "    [theme=dark] .colab-df-convert {\n",
              "      background-color: #3B4455;\n",
              "      fill: #D2E3FC;\n",
              "    }\n",
              "\n",
              "    [theme=dark] .colab-df-convert:hover {\n",
              "      background-color: #434B5C;\n",
              "      box-shadow: 0px 1px 3px 1px rgba(0, 0, 0, 0.15);\n",
              "      filter: drop-shadow(0px 1px 2px rgba(0, 0, 0, 0.3));\n",
              "      fill: #FFFFFF;\n",
              "    }\n",
              "  </style>\n",
              "\n",
              "    <script>\n",
              "      const buttonEl =\n",
              "        document.querySelector('#df-41eb7b69-ff34-4c16-8cf8-e53b3cd4e226 button.colab-df-convert');\n",
              "      buttonEl.style.display =\n",
              "        google.colab.kernel.accessAllowed ? 'block' : 'none';\n",
              "\n",
              "      async function convertToInteractive(key) {\n",
              "        const element = document.querySelector('#df-41eb7b69-ff34-4c16-8cf8-e53b3cd4e226');\n",
              "        const dataTable =\n",
              "          await google.colab.kernel.invokeFunction('convertToInteractive',\n",
              "                                                    [key], {});\n",
              "        if (!dataTable) return;\n",
              "\n",
              "        const docLinkHtml = 'Like what you see? Visit the ' +\n",
              "          '<a target=\"_blank\" href=https://colab.research.google.com/notebooks/data_table.ipynb>data table notebook</a>'\n",
              "          + ' to learn more about interactive tables.';\n",
              "        element.innerHTML = '';\n",
              "        dataTable['output_type'] = 'display_data';\n",
              "        await google.colab.output.renderOutput(dataTable, element);\n",
              "        const docLink = document.createElement('div');\n",
              "        docLink.innerHTML = docLinkHtml;\n",
              "        element.appendChild(docLink);\n",
              "      }\n",
              "    </script>\n",
              "  </div>\n",
              "\n",
              "\n",
              "<div id=\"df-0def07c4-2e0d-4263-8a29-71e3b1c535be\">\n",
              "  <button class=\"colab-df-quickchart\" onclick=\"quickchart('df-0def07c4-2e0d-4263-8a29-71e3b1c535be')\"\n",
              "            title=\"Suggest charts\"\n",
              "            style=\"display:none;\">\n",
              "\n",
              "<svg xmlns=\"http://www.w3.org/2000/svg\" height=\"24px\"viewBox=\"0 0 24 24\"\n",
              "     width=\"24px\">\n",
              "    <g>\n",
              "        <path d=\"M19 3H5c-1.1 0-2 .9-2 2v14c0 1.1.9 2 2 2h14c1.1 0 2-.9 2-2V5c0-1.1-.9-2-2-2zM9 17H7v-7h2v7zm4 0h-2V7h2v10zm4 0h-2v-4h2v4z\"/>\n",
              "    </g>\n",
              "</svg>\n",
              "  </button>\n",
              "\n",
              "<style>\n",
              "  .colab-df-quickchart {\n",
              "      --bg-color: #E8F0FE;\n",
              "      --fill-color: #1967D2;\n",
              "      --hover-bg-color: #E2EBFA;\n",
              "      --hover-fill-color: #174EA6;\n",
              "      --disabled-fill-color: #AAA;\n",
              "      --disabled-bg-color: #DDD;\n",
              "  }\n",
              "\n",
              "  [theme=dark] .colab-df-quickchart {\n",
              "      --bg-color: #3B4455;\n",
              "      --fill-color: #D2E3FC;\n",
              "      --hover-bg-color: #434B5C;\n",
              "      --hover-fill-color: #FFFFFF;\n",
              "      --disabled-bg-color: #3B4455;\n",
              "      --disabled-fill-color: #666;\n",
              "  }\n",
              "\n",
              "  .colab-df-quickchart {\n",
              "    background-color: var(--bg-color);\n",
              "    border: none;\n",
              "    border-radius: 50%;\n",
              "    cursor: pointer;\n",
              "    display: none;\n",
              "    fill: var(--fill-color);\n",
              "    height: 32px;\n",
              "    padding: 0;\n",
              "    width: 32px;\n",
              "  }\n",
              "\n",
              "  .colab-df-quickchart:hover {\n",
              "    background-color: var(--hover-bg-color);\n",
              "    box-shadow: 0 1px 2px rgba(60, 64, 67, 0.3), 0 1px 3px 1px rgba(60, 64, 67, 0.15);\n",
              "    fill: var(--button-hover-fill-color);\n",
              "  }\n",
              "\n",
              "  .colab-df-quickchart-complete:disabled,\n",
              "  .colab-df-quickchart-complete:disabled:hover {\n",
              "    background-color: var(--disabled-bg-color);\n",
              "    fill: var(--disabled-fill-color);\n",
              "    box-shadow: none;\n",
              "  }\n",
              "\n",
              "  .colab-df-spinner {\n",
              "    border: 2px solid var(--fill-color);\n",
              "    border-color: transparent;\n",
              "    border-bottom-color: var(--fill-color);\n",
              "    animation:\n",
              "      spin 1s steps(1) infinite;\n",
              "  }\n",
              "\n",
              "  @keyframes spin {\n",
              "    0% {\n",
              "      border-color: transparent;\n",
              "      border-bottom-color: var(--fill-color);\n",
              "      border-left-color: var(--fill-color);\n",
              "    }\n",
              "    20% {\n",
              "      border-color: transparent;\n",
              "      border-left-color: var(--fill-color);\n",
              "      border-top-color: var(--fill-color);\n",
              "    }\n",
              "    30% {\n",
              "      border-color: transparent;\n",
              "      border-left-color: var(--fill-color);\n",
              "      border-top-color: var(--fill-color);\n",
              "      border-right-color: var(--fill-color);\n",
              "    }\n",
              "    40% {\n",
              "      border-color: transparent;\n",
              "      border-right-color: var(--fill-color);\n",
              "      border-top-color: var(--fill-color);\n",
              "    }\n",
              "    60% {\n",
              "      border-color: transparent;\n",
              "      border-right-color: var(--fill-color);\n",
              "    }\n",
              "    80% {\n",
              "      border-color: transparent;\n",
              "      border-right-color: var(--fill-color);\n",
              "      border-bottom-color: var(--fill-color);\n",
              "    }\n",
              "    90% {\n",
              "      border-color: transparent;\n",
              "      border-bottom-color: var(--fill-color);\n",
              "    }\n",
              "  }\n",
              "</style>\n",
              "\n",
              "  <script>\n",
              "    async function quickchart(key) {\n",
              "      const quickchartButtonEl =\n",
              "        document.querySelector('#' + key + ' button');\n",
              "      quickchartButtonEl.disabled = true;  // To prevent multiple clicks.\n",
              "      quickchartButtonEl.classList.add('colab-df-spinner');\n",
              "      try {\n",
              "        const charts = await google.colab.kernel.invokeFunction(\n",
              "            'suggestCharts', [key], {});\n",
              "      } catch (error) {\n",
              "        console.error('Error during call to suggestCharts:', error);\n",
              "      }\n",
              "      quickchartButtonEl.classList.remove('colab-df-spinner');\n",
              "      quickchartButtonEl.classList.add('colab-df-quickchart-complete');\n",
              "    }\n",
              "    (() => {\n",
              "      let quickchartButtonEl =\n",
              "        document.querySelector('#df-0def07c4-2e0d-4263-8a29-71e3b1c535be button');\n",
              "      quickchartButtonEl.style.display =\n",
              "        google.colab.kernel.accessAllowed ? 'block' : 'none';\n",
              "    })();\n",
              "  </script>\n",
              "</div>\n",
              "    </div>\n",
              "  </div>\n"
            ],
            "text/plain": [
              "     PassengerId  Transported\n",
              "0        0013_01         True\n",
              "1        0018_01        False\n",
              "2        0019_01         True\n",
              "3        0021_01         True\n",
              "4        0023_01         True\n",
              "...          ...          ...\n",
              "4272     9266_02         True\n",
              "4273     9269_01        False\n",
              "4274     9271_01         True\n",
              "4275     9273_01         True\n",
              "4276     9277_01         True\n",
              "\n",
              "[4277 rows x 2 columns]"
            ]
          },
          "execution_count": 67,
          "metadata": {},
          "output_type": "execute_result"
        }
      ],
      "source": [
        "results"
      ]
    },
    {
      "cell_type": "markdown",
      "metadata": {
        "id": "TIsdRtjErxdj"
      },
      "source": [
        "# Logistic Regression"
      ]
    },
    {
      "cell_type": "code",
      "execution_count": 68,
      "metadata": {
        "colab": {
          "base_uri": "https://localhost:8080/"
        },
        "id": "aKwkMjzCNRLl",
        "outputId": "38e78cc1-5e30-4a2c-9497-021264819e18"
      },
      "outputs": [
        {
          "name": "stdout",
          "output_type": "stream",
          "text": [
            "Full train dataset shape is (8693, 14)\n"
          ]
        }
      ],
      "source": [
        "test = pd.read_csv(\"test.csv\")\n",
        "train = pd.read_csv(\"train.csv\")\n",
        "print(\"Full train dataset shape is {}\".format(train.shape))"
      ]
    },
    {
      "cell_type": "markdown",
      "metadata": {
        "id": "I83ynnI8sKjh"
      },
      "source": [
        "## Data Handling\n",
        "\n",
        "The following section deals with hadling the data from the dataset. For every categorical variable dummies were generated to allow for mathmatical manipulation. Homeplanet, Destination, Cryosleep, and VIP variables were dummified initially. I got rid of the redundant false columns (This does assue null values to be false, but VIP and CryoSleep would likely have detailed dossiers of clients making this feasible in my opinion.) Cabin was split in three: Deck, CabinNumber, and side. Deck and side were also dummified. Age was the one instance where filling na's with 0 was not justifiable. I therefore took the average age and filled the Na's with it. Names and Passenger ID were dropped as they were not neccessary for Logisctic analysis.\n"
      ]
    },
    {
      "cell_type": "code",
      "execution_count": 69,
      "metadata": {
        "colab": {
          "base_uri": "https://localhost:8080/"
        },
        "id": "r34WQFjOsVe0",
        "outputId": "44e302de-db68-4b90-fe4b-f5ce45471b71"
      },
      "outputs": [
        {
          "name": "stderr",
          "output_type": "stream",
          "text": [
            "<ipython-input-69-b0646f862439>:6: FutureWarning: In a future version of pandas all arguments of DataFrame.drop except for the argument 'labels' will be keyword-only.\n",
            "  train=train.drop(['CryoSleep_False','VIP_False'],1)\n",
            "<ipython-input-69-b0646f862439>:16: FutureWarning: In a future version of pandas all arguments of DataFrame.drop except for the argument 'labels' will be keyword-only.\n",
            "  train=train.drop(['PassengerId','Name'],1)\n"
          ]
        }
      ],
      "source": [
        "# initial dummies and cleanup\n",
        "train = pd.get_dummies(data = train,columns = ['HomePlanet'])\n",
        "train = pd.get_dummies(data = train,columns = ['Destination'])\n",
        "train = pd.get_dummies(data = train,columns = ['CryoSleep'])\n",
        "train = pd.get_dummies(data = train,columns = ['VIP'])\n",
        "train=train.drop(['CryoSleep_False','VIP_False'],1)\n",
        "\n",
        "#Cabin split and cleanup\n",
        "train[['Deck','CabinNumber','Side']] = train['Cabin'].str.split('/',expand=True)\n",
        "train=train.drop(['Cabin'],axis=1)\n",
        "\n",
        "# Fill na's with average Age\n",
        "train[['Age']]=train[['Age']].fillna(train[['Age']].mean())\n",
        "\n",
        "# Removed Name and id as they were not used\n",
        "train=train.drop(['PassengerId','Name'],1)\n",
        "train[['Transported']] = train[['Transported']].astype(int)\n",
        "\n",
        "#Got dummies for Deck and Side\n",
        "train = pd.get_dummies(data = train,columns = ['Deck'])\n",
        "train = pd.get_dummies(data = train,columns = ['Side'])\n",
        "\n",
        "# Fill remaining na's with 0 convert cabin number to int\n",
        "train=train.fillna(0)\n",
        "train[['CabinNumber']] = train[['CabinNumber']].astype(int)"
      ]
    },
    {
      "cell_type": "code",
      "execution_count": 70,
      "metadata": {
        "colab": {
          "base_uri": "https://localhost:8080/"
        },
        "id": "OkScorOVsqjX",
        "outputId": "80c42dd3-211f-46b7-bb8e-b37686850220"
      },
      "outputs": [
        {
          "name": "stdout",
          "output_type": "stream",
          "text": [
            "<class 'pandas.core.frame.DataFrame'>\n",
            "RangeIndex: 8693 entries, 0 to 8692\n",
            "Data columns (total 26 columns):\n",
            " #   Column                     Non-Null Count  Dtype  \n",
            "---  ------                     --------------  -----  \n",
            " 0   Age                        8693 non-null   float64\n",
            " 1   RoomService                8693 non-null   float64\n",
            " 2   FoodCourt                  8693 non-null   float64\n",
            " 3   ShoppingMall               8693 non-null   float64\n",
            " 4   Spa                        8693 non-null   float64\n",
            " 5   VRDeck                     8693 non-null   float64\n",
            " 6   Transported                8693 non-null   int64  \n",
            " 7   HomePlanet_Earth           8693 non-null   uint8  \n",
            " 8   HomePlanet_Europa          8693 non-null   uint8  \n",
            " 9   HomePlanet_Mars            8693 non-null   uint8  \n",
            " 10  Destination_55 Cancri e    8693 non-null   uint8  \n",
            " 11  Destination_PSO J318.5-22  8693 non-null   uint8  \n",
            " 12  Destination_TRAPPIST-1e    8693 non-null   uint8  \n",
            " 13  CryoSleep_True             8693 non-null   uint8  \n",
            " 14  VIP_True                   8693 non-null   uint8  \n",
            " 15  CabinNumber                8693 non-null   int64  \n",
            " 16  Deck_A                     8693 non-null   uint8  \n",
            " 17  Deck_B                     8693 non-null   uint8  \n",
            " 18  Deck_C                     8693 non-null   uint8  \n",
            " 19  Deck_D                     8693 non-null   uint8  \n",
            " 20  Deck_E                     8693 non-null   uint8  \n",
            " 21  Deck_F                     8693 non-null   uint8  \n",
            " 22  Deck_G                     8693 non-null   uint8  \n",
            " 23  Deck_T                     8693 non-null   uint8  \n",
            " 24  Side_P                     8693 non-null   uint8  \n",
            " 25  Side_S                     8693 non-null   uint8  \n",
            "dtypes: float64(6), int64(2), uint8(18)\n",
            "memory usage: 696.2 KB\n"
          ]
        }
      ],
      "source": [
        "train.info()"
      ]
    },
    {
      "cell_type": "markdown",
      "metadata": {
        "id": "FEiNaOKhsxD7"
      },
      "source": [
        "## Data Categorization\n",
        "\n",
        "This Section breaks the data off into very rough categories to try and sift through the data. I came up with six broad categories: Basic, Spending, Origin, Dest, Luxury, and Deck. This created 6 different test sets on which to run logistic regressions."
      ]
    },
    {
      "cell_type": "code",
      "execution_count": 71,
      "metadata": {
        "id": "icsw2WzMs7VQ"
      },
      "outputs": [],
      "source": [
        "# XBasic XSpending XOrigin XDest XLuxury XDeck\n",
        "XBasic=train[['Age','CabinNumber']]\n",
        "XSpending=train[['RoomService','FoodCourt' ,'ShoppingMall','Spa','VRDeck']]\n",
        "XOrigin=train[['HomePlanet_Earth', 'HomePlanet_Europa', 'HomePlanet_Mars']]\n",
        "XDest=train[['Destination_55 Cancri e','Destination_PSO J318.5-22','Destination_TRAPPIST-1e']]\n",
        "XLuxury=train[['CryoSleep_True','VIP_True']]\n",
        "XDeck=train[['Deck_A','Deck_B','Deck_C','Deck_D','Deck_E','Deck_F','Deck_G','Deck_T','Side_P','Side_S']]\n",
        "y=train['Transported']\n",
        "XBasic_train, XBasic_test, yBasic_train, yBasic_test = train_test_split(XBasic, y, test_size=0.2)\n",
        "XSpending_train, XSpending_test, ySpending_train, ySpending_test = train_test_split(XSpending, y, test_size=0.2)\n",
        "XOrigin_train, XOrigin_test, yOrigin_train, yOrigin_test = train_test_split(XOrigin, y, test_size=0.2)\n",
        "XDest_train, XDest_test, yDest_train, yDest_test = train_test_split(XDest, y, test_size=0.2)\n",
        "XLuxury_train, XLuxury_test, yLuxury_train, yLuxury_test = train_test_split(XLuxury, y, test_size=0.2)\n",
        "XDeck_train, XDeck_test, yDeck_train, yDeck_test = train_test_split(XDeck, y, test_size=0.2)\n"
      ]
    },
    {
      "cell_type": "markdown",
      "metadata": {
        "id": "eOMYx-Qzs6Un"
      },
      "source": [
        "## Basic Category\n",
        "\n",
        "The Basic Category contains age and cabin number. Primarily due to lack of better category. The confusion matrix below summarises the results. This Category provided very middling results. An accuracy of 53% was achieved. not much better than guessing.\n"
      ]
    },
    {
      "cell_type": "code",
      "execution_count": 72,
      "metadata": {
        "colab": {
          "base_uri": "https://localhost:8080/",
          "height": 701
        },
        "id": "5St-Xau8tGkx",
        "outputId": "ce223228-a338-4e33-ea10-68358632aa71"
      },
      "outputs": [
        {
          "name": "stdout",
          "output_type": "stream",
          "text": [
            "                 precision    recall  f1-score   support\n",
            "\n",
            "Not Transported       0.54      0.42      0.47       887\n",
            "    Transported       0.51      0.62      0.56       852\n",
            "\n",
            "       accuracy                           0.52      1739\n",
            "      macro avg       0.52      0.52      0.51      1739\n",
            "   weighted avg       0.52      0.52      0.51      1739\n",
            "\n"
          ]
        },
        {
          "data": {
            "image/png": "[encoded data removed]",
            "text/plain": [
              "<Figure size 640x480 with 2 Axes>"
            ]
          },
          "metadata": {},
          "output_type": "display_data"
        }
      ],
      "source": [
        "modelBasic = LogisticRegression(random_state=16)\n",
        "modelBasic.fit(XBasic_train, yBasic_train)\n",
        "y_predBasic = modelBasic.predict(XBasic_test)\n",
        "\n",
        "cnf_matrix_basic = metrics.confusion_matrix(yBasic_test, y_predBasic)\n",
        "cnf_matrix_basic\n",
        "\n",
        "class_names=[0,1] # name  of classes\n",
        "fig, ax = plt.subplots()\n",
        "tick_marks = np.arange(len(class_names))\n",
        "plt.xticks(tick_marks, class_names)\n",
        "plt.yticks(tick_marks, class_names)\n",
        "# create heatmap\n",
        "sns.heatmap(pd.DataFrame(cnf_matrix_basic), annot=True, cmap=\"Reds\" ,fmt='g',vmin=0, vmax=1000)\n",
        "ax.xaxis.set_label_position(\"top\")\n",
        "plt.tight_layout()\n",
        "plt.title('Confusion matrix', y=1.1)\n",
        "plt.ylabel('Actual')\n",
        "plt.xlabel('Predicted')\n",
        "\n",
        "target_names = ['Not Transported', 'Transported']\n",
        "print(classification_report(yBasic_test, y_predBasic, target_names=target_names))"
      ]
    },
    {
      "cell_type": "markdown",
      "metadata": {
        "id": "vYqpyK1VtM00"
      },
      "source": [
        "## Spending Category\n",
        "\n",
        "This section deals with the Spending category. Basically any money spent on ship services was in this category. This was of the best sets, achieving an accuracy of 75%"
      ]
    },
    {
      "cell_type": "code",
      "execution_count": 73,
      "metadata": {
        "colab": {
          "base_uri": "https://localhost:8080/",
          "height": 701
        },
        "id": "m-LCAMW0tbUf",
        "outputId": "b9d91cf0-4cc2-4e4d-8a56-dae43755fea0"
      },
      "outputs": [
        {
          "name": "stdout",
          "output_type": "stream",
          "text": [
            "                 precision    recall  f1-score   support\n",
            "\n",
            "Not Transported       0.86      0.65      0.74       847\n",
            "    Transported       0.73      0.90      0.81       892\n",
            "\n",
            "       accuracy                           0.78      1739\n",
            "      macro avg       0.80      0.78      0.78      1739\n",
            "   weighted avg       0.80      0.78      0.78      1739\n",
            "\n"
          ]
        },
        {
          "data": {
            "image/png": "[encoded data removed]",
            "text/plain": [
              "<Figure size 640x480 with 2 Axes>"
            ]
          },
          "metadata": {},
          "output_type": "display_data"
        }
      ],
      "source": [
        "modelSpending = LogisticRegression(random_state=16)\n",
        "modelSpending.fit(XSpending_train, ySpending_train)\n",
        "y_predSpending = modelSpending.predict(XSpending_test)\n",
        "\n",
        "cnf_matrix_Spending = metrics.confusion_matrix(ySpending_test, y_predSpending)\n",
        "cnf_matrix_Spending\n",
        "\n",
        "class_names=[0,1] # name  of classes\n",
        "fig, ax = plt.subplots()\n",
        "tick_marks = np.arange(len(class_names))\n",
        "plt.xticks(tick_marks, class_names)\n",
        "plt.yticks(tick_marks, class_names)\n",
        "# create heatmap\n",
        "sns.heatmap(pd.DataFrame(cnf_matrix_Spending), annot=True, cmap=\"Reds\" ,fmt='g',vmin=0, vmax=1000)\n",
        "ax.xaxis.set_label_position(\"top\")\n",
        "plt.tight_layout()\n",
        "plt.title('Confusion matrix', y=1.1)\n",
        "plt.ylabel('Actual')\n",
        "plt.xlabel('Predicted')\n",
        "\n",
        "target_names = ['Not Transported', 'Transported']\n",
        "print(classification_report(ySpending_test, y_predSpending, target_names=target_names))"
      ]
    },
    {
      "cell_type": "markdown",
      "metadata": {
        "id": "n1h9E5rTtfly"
      },
      "source": [
        "## Planet Origin Category\n",
        "\n",
        "This section shows that the home planets had very low indication of transportaion or not. Accuracy of only 58%\n"
      ]
    },
    {
      "cell_type": "code",
      "execution_count": 74,
      "metadata": {
        "colab": {
          "base_uri": "https://localhost:8080/",
          "height": 701
        },
        "id": "Yhak3A1ctxII",
        "outputId": "814e2639-1a26-4385-e02a-c08990e06d64"
      },
      "outputs": [
        {
          "name": "stdout",
          "output_type": "stream",
          "text": [
            "                 precision    recall  f1-score   support\n",
            "\n",
            "Not Transported       0.56      0.63      0.60       866\n",
            "    Transported       0.58      0.52      0.55       873\n",
            "\n",
            "       accuracy                           0.57      1739\n",
            "      macro avg       0.57      0.57      0.57      1739\n",
            "   weighted avg       0.57      0.57      0.57      1739\n",
            "\n"
          ]
        },
        {
          "data": {
            "image/png": "[encoded data removed]",
            "text/plain": [
              "<Figure size 640x480 with 2 Axes>"
            ]
          },
          "metadata": {},
          "output_type": "display_data"
        }
      ],
      "source": [
        "modelOrigin = LogisticRegression(random_state=16)\n",
        "modelOrigin.fit(XOrigin_train, yOrigin_train)\n",
        "y_predOrigin = modelOrigin.predict(XOrigin_test)\n",
        "\n",
        "cnf_matrix_Origin = metrics.confusion_matrix(yOrigin_test, y_predOrigin)\n",
        "cnf_matrix_Origin\n",
        "\n",
        "class_names=[0,1] # name  of classes\n",
        "fig, ax = plt.subplots()\n",
        "tick_marks = np.arange(len(class_names))\n",
        "plt.xticks(tick_marks, class_names)\n",
        "plt.yticks(tick_marks, class_names)\n",
        "# create heatmap\n",
        "sns.heatmap(pd.DataFrame(cnf_matrix_Origin), annot=True, cmap=\"Reds\" ,fmt='g',vmin=0, vmax=1000)\n",
        "ax.xaxis.set_label_position(\"top\")\n",
        "plt.tight_layout()\n",
        "plt.title('Confusion matrix', y=1.1)\n",
        "plt.ylabel('Actual')\n",
        "plt.xlabel('Predicted')\n",
        "\n",
        "target_names = ['Not Transported', 'Transported']\n",
        "print(classification_report(yOrigin_test, y_predOrigin, target_names=target_names))"
      ]
    },
    {
      "cell_type": "markdown",
      "metadata": {
        "id": "D0s5JfPDt_1j"
      },
      "source": [
        "## Destination Category\n",
        "\n",
        "The Destination seemed to have an affect on who was NOT transported, though the model weighed heavier on negative guessing. the not transported recall was as high as 75%"
      ]
    },
    {
      "cell_type": "code",
      "execution_count": 75,
      "metadata": {
        "colab": {
          "base_uri": "https://localhost:8080/",
          "height": 701
        },
        "id": "1x4B0O7nuD4N",
        "outputId": "f941ef6c-7d07-4ef6-ec6a-c21a094c8e2a"
      },
      "outputs": [
        {
          "name": "stdout",
          "output_type": "stream",
          "text": [
            "                 precision    recall  f1-score   support\n",
            "\n",
            "Not Transported       0.51      0.75      0.61       843\n",
            "    Transported       0.59      0.34      0.43       896\n",
            "\n",
            "       accuracy                           0.54      1739\n",
            "      macro avg       0.55      0.54      0.52      1739\n",
            "   weighted avg       0.55      0.54      0.52      1739\n",
            "\n"
          ]
        },
        {
          "data": {
            "image/png": "[encoded data removed]",
            "text/plain": [
              "<Figure size 640x480 with 2 Axes>"
            ]
          },
          "metadata": {},
          "output_type": "display_data"
        }
      ],
      "source": [
        "modelDest = LogisticRegression(random_state=16)\n",
        "modelDest.fit(XDest_train, yDest_train)\n",
        "y_predDest = modelDest.predict(XDest_test)\n",
        "\n",
        "cnf_matrix_Dest = metrics.confusion_matrix(yDest_test, y_predDest)\n",
        "cnf_matrix_Dest\n",
        "\n",
        "class_names=[0,1] # name  of classes\n",
        "fig, ax = plt.subplots()\n",
        "tick_marks = np.arange(len(class_names))\n",
        "plt.xticks(tick_marks, class_names)\n",
        "plt.yticks(tick_marks, class_names)\n",
        "# create heatmap\n",
        "sns.heatmap(pd.DataFrame(cnf_matrix_Dest), annot=True, cmap=\"Reds\" ,fmt='g',vmin=0, vmax=1000)\n",
        "ax.xaxis.set_label_position(\"top\")\n",
        "plt.tight_layout()\n",
        "plt.title('Confusion matrix', y=1.1)\n",
        "plt.ylabel('Actual')\n",
        "plt.xlabel('Predicted')\n",
        "\n",
        "target_names = ['Not Transported', 'Transported']\n",
        "print(classification_report(yDest_test, y_predDest, target_names=target_names))"
      ]
    },
    {
      "cell_type": "markdown",
      "metadata": {
        "id": "YERBNRQJuPYV"
      },
      "source": [
        "## Luxury Category\n",
        "\n",
        "The luxury category was also a high performer. 88% recall on not transported, 81% precision on transported."
      ]
    },
    {
      "cell_type": "code",
      "execution_count": 76,
      "metadata": {
        "colab": {
          "base_uri": "https://localhost:8080/",
          "height": 701
        },
        "id": "UemBE1pAuY-h",
        "outputId": "0211954e-c0f5-45ad-be73-d8cf81661911"
      },
      "outputs": [
        {
          "name": "stdout",
          "output_type": "stream",
          "text": [
            "                 precision    recall  f1-score   support\n",
            "\n",
            "Not Transported       0.65      0.87      0.74       836\n",
            "    Transported       0.83      0.56      0.67       903\n",
            "\n",
            "       accuracy                           0.71      1739\n",
            "      macro avg       0.74      0.72      0.71      1739\n",
            "   weighted avg       0.74      0.71      0.71      1739\n",
            "\n"
          ]
        },
        {
          "data": {
            "image/png": "[encoded data removed]",
            "text/plain": [
              "<Figure size 640x480 with 2 Axes>"
            ]
          },
          "metadata": {},
          "output_type": "display_data"
        }
      ],
      "source": [
        "modelLuxury = LogisticRegression(random_state=16)\n",
        "modelLuxury.fit(XLuxury_train, yLuxury_train)\n",
        "y_predLuxury = modelLuxury.predict(XLuxury_test)\n",
        "\n",
        "cnf_matrix_Luxury = metrics.confusion_matrix(yLuxury_test, y_predLuxury)\n",
        "cnf_matrix_Luxury\n",
        "\n",
        "class_names=[0,1] # name  of classes\n",
        "fig, ax = plt.subplots()\n",
        "tick_marks = np.arange(len(class_names))\n",
        "plt.xticks(tick_marks, class_names)\n",
        "plt.yticks(tick_marks, class_names)\n",
        "# create heatmap\n",
        "sns.heatmap(pd.DataFrame(cnf_matrix_Luxury), annot=True, cmap=\"Reds\" ,fmt='g',vmin=0, vmax=1000)\n",
        "ax.xaxis.set_label_position(\"top\")\n",
        "plt.tight_layout()\n",
        "plt.title('Confusion matrix', y=1.1)\n",
        "plt.ylabel('Actual')\n",
        "plt.xlabel('Predicted')\n",
        "\n",
        "target_names = ['Not Transported', 'Transported']\n",
        "print(classification_report(yLuxury_test, y_predLuxury, target_names=target_names))"
      ]
    },
    {
      "cell_type": "markdown",
      "metadata": {
        "id": "QEg0SvNCukY4"
      },
      "source": [
        "# Deck Category\n",
        "\n",
        "Finally the Deck category had some slightly above average performance. 61% accuracy over all."
      ]
    },
    {
      "cell_type": "code",
      "execution_count": 77,
      "metadata": {
        "colab": {
          "base_uri": "https://localhost:8080/",
          "height": 701
        },
        "id": "zmJ81x2IuqXk",
        "outputId": "86436a8b-786e-47d2-e115-a174628c39a3"
      },
      "outputs": [
        {
          "name": "stdout",
          "output_type": "stream",
          "text": [
            "                 precision    recall  f1-score   support\n",
            "\n",
            "Not Transported       0.57      0.74      0.65       876\n",
            "    Transported       0.62      0.44      0.51       863\n",
            "\n",
            "       accuracy                           0.59      1739\n",
            "      macro avg       0.60      0.59      0.58      1739\n",
            "   weighted avg       0.60      0.59      0.58      1739\n",
            "\n"
          ]
        },
        {
          "data": {
            "image/png": "[encoded data removed]",
            "text/plain": [
              "<Figure size 640x480 with 2 Axes>"
            ]
          },
          "metadata": {},
          "output_type": "display_data"
        }
      ],
      "source": [
        "modelDeck = LogisticRegression(random_state=16)\n",
        "modelDeck.fit(XDeck_train, yDeck_train)\n",
        "y_predDeck = modelDeck.predict(XDeck_test)\n",
        "\n",
        "cnf_matrix_Deck = metrics.confusion_matrix(yDeck_test, y_predDeck)\n",
        "cnf_matrix_Deck\n",
        "\n",
        "class_names=[0,1] # name  of classes\n",
        "fig, ax = plt.subplots()\n",
        "tick_marks = np.arange(len(class_names))\n",
        "plt.xticks(tick_marks, class_names)\n",
        "plt.yticks(tick_marks, class_names)\n",
        "# create heatmap\n",
        "sns.heatmap(pd.DataFrame(cnf_matrix_Deck), annot=True, cmap=\"Reds\" ,fmt='g',vmin=0, vmax=1000)\n",
        "ax.xaxis.set_label_position(\"top\")\n",
        "plt.tight_layout()\n",
        "plt.title('Confusion matrix', y=1.1)\n",
        "plt.ylabel('Actual')\n",
        "plt.xlabel('Predicted')\n",
        "\n",
        "target_names = ['Not Transported', 'Transported']\n",
        "print(classification_report(yDeck_test, y_predDeck, target_names=target_names))"
      ]
    },
    {
      "cell_type": "markdown",
      "metadata": {
        "id": "dtjvDVZZuuXe"
      },
      "source": [
        "## Bonus Round Spending and luxury Category\n",
        "\n",
        "After using the broad categories the eek out a bit of information I combined the two better performing categories of Luxury and spending and got a fairly interesting result. A 78% overall accuracy, precision and recall.\n"
      ]
    },
    {
      "cell_type": "code",
      "execution_count": 78,
      "metadata": {
        "colab": {
          "base_uri": "https://localhost:8080/",
          "height": 701
        },
        "id": "dxyNjMclu61h",
        "outputId": "b48576df-8c41-4454-d647-8e5837df65bf"
      },
      "outputs": [
        {
          "name": "stdout",
          "output_type": "stream",
          "text": [
            "                 precision    recall  f1-score   support\n",
            "\n",
            "Not Transported       0.77      0.77      0.77       855\n",
            "    Transported       0.78      0.77      0.78       884\n",
            "\n",
            "       accuracy                           0.77      1739\n",
            "      macro avg       0.77      0.77      0.77      1739\n",
            "   weighted avg       0.77      0.77      0.77      1739\n",
            "\n"
          ]
        },
        {
          "data": {
            "image/png": "[encoded data removed]",
            "text/plain": [
              "<Figure size 640x480 with 2 Axes>"
            ]
          },
          "metadata": {},
          "output_type": "display_data"
        }
      ],
      "source": [
        "XSpendLux=train[['RoomService','FoodCourt' ,'ShoppingMall','Spa','VRDeck','CryoSleep_True','VIP_True']]\n",
        "XSpendLux_train, XSpendLux_test, ySpendLux_train, ySpendLux_test = train_test_split(XSpendLux, y, test_size=0.2)\n",
        "\n",
        "modelSpendLux = LogisticRegression(random_state=16)\n",
        "modelSpendLux.fit(XSpendLux_train, ySpendLux_train)\n",
        "y_predSpendLux = modelSpendLux.predict(XSpendLux_test)\n",
        "\n",
        "cnf_matrix_SpendLux = metrics.confusion_matrix(ySpendLux_test, y_predSpendLux)\n",
        "cnf_matrix_SpendLux\n",
        "\n",
        "class_names=[0,1] # name  of classes\n",
        "fig, ax = plt.subplots()\n",
        "tick_marks = np.arange(len(class_names))\n",
        "plt.xticks(tick_marks, class_names)\n",
        "plt.yticks(tick_marks, class_names)\n",
        "# create heatmap\n",
        "sns.heatmap(pd.DataFrame(cnf_matrix_SpendLux), annot=True, cmap=\"Reds\" ,fmt='g',vmin=0, vmax=1000)\n",
        "ax.xaxis.set_label_position(\"top\")\n",
        "plt.tight_layout()\n",
        "plt.title('Confusion matrix', y=1.1)\n",
        "plt.ylabel('Actual')\n",
        "plt.xlabel('Predicted')\n",
        "\n",
        "target_names = ['Not Transported', 'Transported']\n",
        "print(classification_report(ySpendLux_test, y_predSpendLux, target_names=target_names))"
      ]
    },
    {
      "cell_type": "markdown",
      "metadata": {
        "id": "YGl3nVfUu6Tc"
      },
      "source": [
        "# Conclusion of Logistic Regression\n",
        "\n",
        "Based on the two high performing categories of Luxury, Spending, and the combination of the two it would lead me to believe that Wealth was very influencial on whether or not passenger was transported."
      ]
    }
  ],
  "metadata": {
    "colab": {
      "provenance": []
    },
    "kaggle": {
      "accelerator": "none",
      "dataSources": [
        {
          "databundleVersionId": 3220602,
          "sourceId": 34377,
          "sourceType": "competition"
        }
      ],
      "dockerImageVersionId": 30587,
      "isGpuEnabled": false,
      "isInternetEnabled": true,
      "language": "python",
      "sourceType": "notebook"
    },
    "kernelspec": {
      "display_name": "Python 3",
      "language": "python",
      "name": "python3"
    },
    "language_info": {
      "codemirror_mode": {
        "name": "ipython",
        "version": 3
      },
      "file_extension": ".py",
      "mimetype": "text/x-python",
      "name": "python",
      "nbconvert_exporter": "python",
      "pygments_lexer": "ipython3",
      "version": "3.10.12"
    }
  },
  "nbformat": 4,
  "nbformat_minor": 0
}
